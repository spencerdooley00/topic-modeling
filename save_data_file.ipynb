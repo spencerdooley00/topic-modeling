{
 "metadata": {
  "language_info": {
   "codemirror_mode": {
    "name": "ipython",
    "version": 3
   },
   "file_extension": ".py",
   "mimetype": "text/x-python",
   "name": "python",
   "nbconvert_exporter": "python",
   "pygments_lexer": "ipython3",
   "version": "3.8.1-final"
  },
  "orig_nbformat": 2,
  "kernelspec": {
   "name": "python3",
   "display_name": "Python 3",
   "language": "python"
  }
 },
 "nbformat": 4,
 "nbformat_minor": 2,
 "cells": [
  {
   "cell_type": "code",
   "execution_count": 1,
   "metadata": {},
   "outputs": [],
   "source": [
    "import pandas as pd\n",
    "from src.firebase_functions import read_all_discogs\n",
    "from src.process import lyric_tokenizer"
   ]
  },
  {
   "cell_type": "code",
   "execution_count": 2,
   "metadata": {},
   "outputs": [
    {
     "output_type": "execute_result",
     "data": {
      "text/plain": "'/Users/meganardren/Documents/GitHub/Topic-Mapping'"
     },
     "metadata": {},
     "execution_count": 2
    }
   ],
   "source": [
    "os.getcwd()"
   ]
  },
  {
   "cell_type": "code",
   "execution_count": 3,
   "metadata": {},
   "outputs": [],
   "source": [
    "all_discogs = read_all_discogs()"
   ]
  },
  {
   "cell_type": "code",
   "execution_count": 4,
   "metadata": {},
   "outputs": [],
   "source": [
    "artist_names = [key.split('_')[0] for key in all_discogs.keys()]\n",
    "song_names = [key.split('_')[1] for key in all_discogs.keys()]\n",
    "lyrics = [dict['lyrics'] for dict in all_discogs.values()]\n",
    "valence = [dict['valence'] for dict in all_discogs.values()]\n",
    "albums = [dict['album'] for dict in all_discogs.values()]\n",
    "year = [dict['year'] for dict in all_discogs.values()]\n",
    "features = [dict['features'] for dict in all_discogs.values()]\n",
    "tokenized_lyrics = [lyric_tokenizer(words) for words in lyrics]"
   ]
  },
  {
   "cell_type": "code",
   "execution_count": 5,
   "metadata": {},
   "outputs": [
    {
     "output_type": "execute_result",
     "data": {
      "text/plain": "             artist                               song  \\\n0      99 neighbors                                 19   \n1      99 neighbors                          bangarang   \n2      99 neighbors                           basement   \n3      99 neighbors                           champion   \n4      99 neighbors                   champion reprise   \n...             ...                                ...   \n9712  willie nelson      you left a long long time ago   \n9713  willie nelson          you make me feel so young   \n9714  willie nelson                   youll never know   \n9715  willie nelson                     young at heart   \n9716  willie nelson  your memory has a mind of its own   \n\n                                                 lyrics  \\\n0     I feel\\nStuck in a box\\nI saw Jesus walk, aye\\...   \n1     Bounce around and shit\\nBangarang your chick (...   \n2     I said I took that motherfucker for a ride fro...   \n3     Look me in my eye\\nTell me what you see\\nLook ...   \n4     Baby\\nFor all the nights you couldn't sleep\\nA...   \n...                                                 ...   \n9712  You tell me today that you're leaving\\nBut jus...   \n9713  You make me feel so young\\nYou make me feel li...   \n9714  You'll never know just how much I love you\\nYo...   \n9715  Fairy tales can come true\\nIt can happen to yo...   \n9716  Your memory has a mind of its own\\nIt knows wh...   \n\n                                       tokenized_lyrics  valence  \\\n0     [feel, stick, box, jesus, walk, aye, got, tap,...    0.279   \n1     [bounce, shit, bangarang, chick, yay, half, th...    0.556   \n2     [motherfucker, ride, basement, motherfucker, r...    0.646   \n3     [look, eye, tell, look, eye, tell, somebody, l...    0.300   \n4     [baby, night, sleep, sun, time, need, peace, b...    0.102   \n...                                                 ...      ...   \n9712  [tell, today, leave, think, sure, know, today,...    0.235   \n9713  [feel, young, feel, spring, spring, time, grin...    0.576   \n9714  [know, love, know, care, try, hide, love, ough...    0.338   \n9715  [fairy, tale, come, true, happen, young, heart...    0.279   \n9716  [memory, mind, know, think, lose, prove, wrong...    0.338   \n\n                                           album        year features  \n0                                             19  2019-11-06       []  \n1                                     television  2019-01-01       []  \n2                                qwop / basement  2020-07-24       []  \n3                                     television  2019-01-01       []  \n4                                     television  2019-01-01       []  \n...                                          ...         ...      ...  \n9712  willie nelson: the demos project, vol. one        None       []  \n9713                                 that's life  2021-02-26       []  \n9714              let's face the music and dance        None       []  \n9715                                      my way  2018-09-14       []  \n9716                         god's problem child  2017-04-28       []  \n\n[9717 rows x 8 columns]",
      "text/html": "<div>\n<style scoped>\n    .dataframe tbody tr th:only-of-type {\n        vertical-align: middle;\n    }\n\n    .dataframe tbody tr th {\n        vertical-align: top;\n    }\n\n    .dataframe thead th {\n        text-align: right;\n    }\n</style>\n<table border=\"1\" class=\"dataframe\">\n  <thead>\n    <tr style=\"text-align: right;\">\n      <th></th>\n      <th>artist</th>\n      <th>song</th>\n      <th>lyrics</th>\n      <th>tokenized_lyrics</th>\n      <th>valence</th>\n      <th>album</th>\n      <th>year</th>\n      <th>features</th>\n    </tr>\n  </thead>\n  <tbody>\n    <tr>\n      <th>0</th>\n      <td>99 neighbors</td>\n      <td>19</td>\n      <td>I feel\\nStuck in a box\\nI saw Jesus walk, aye\\...</td>\n      <td>[feel, stick, box, jesus, walk, aye, got, tap,...</td>\n      <td>0.279</td>\n      <td>19</td>\n      <td>2019-11-06</td>\n      <td>[]</td>\n    </tr>\n    <tr>\n      <th>1</th>\n      <td>99 neighbors</td>\n      <td>bangarang</td>\n      <td>Bounce around and shit\\nBangarang your chick (...</td>\n      <td>[bounce, shit, bangarang, chick, yay, half, th...</td>\n      <td>0.556</td>\n      <td>television</td>\n      <td>2019-01-01</td>\n      <td>[]</td>\n    </tr>\n    <tr>\n      <th>2</th>\n      <td>99 neighbors</td>\n      <td>basement</td>\n      <td>I said I took that motherfucker for a ride fro...</td>\n      <td>[motherfucker, ride, basement, motherfucker, r...</td>\n      <td>0.646</td>\n      <td>qwop / basement</td>\n      <td>2020-07-24</td>\n      <td>[]</td>\n    </tr>\n    <tr>\n      <th>3</th>\n      <td>99 neighbors</td>\n      <td>champion</td>\n      <td>Look me in my eye\\nTell me what you see\\nLook ...</td>\n      <td>[look, eye, tell, look, eye, tell, somebody, l...</td>\n      <td>0.300</td>\n      <td>television</td>\n      <td>2019-01-01</td>\n      <td>[]</td>\n    </tr>\n    <tr>\n      <th>4</th>\n      <td>99 neighbors</td>\n      <td>champion reprise</td>\n      <td>Baby\\nFor all the nights you couldn't sleep\\nA...</td>\n      <td>[baby, night, sleep, sun, time, need, peace, b...</td>\n      <td>0.102</td>\n      <td>television</td>\n      <td>2019-01-01</td>\n      <td>[]</td>\n    </tr>\n    <tr>\n      <th>...</th>\n      <td>...</td>\n      <td>...</td>\n      <td>...</td>\n      <td>...</td>\n      <td>...</td>\n      <td>...</td>\n      <td>...</td>\n      <td>...</td>\n    </tr>\n    <tr>\n      <th>9712</th>\n      <td>willie nelson</td>\n      <td>you left a long long time ago</td>\n      <td>You tell me today that you're leaving\\nBut jus...</td>\n      <td>[tell, today, leave, think, sure, know, today,...</td>\n      <td>0.235</td>\n      <td>willie nelson: the demos project, vol. one</td>\n      <td>None</td>\n      <td>[]</td>\n    </tr>\n    <tr>\n      <th>9713</th>\n      <td>willie nelson</td>\n      <td>you make me feel so young</td>\n      <td>You make me feel so young\\nYou make me feel li...</td>\n      <td>[feel, young, feel, spring, spring, time, grin...</td>\n      <td>0.576</td>\n      <td>that's life</td>\n      <td>2021-02-26</td>\n      <td>[]</td>\n    </tr>\n    <tr>\n      <th>9714</th>\n      <td>willie nelson</td>\n      <td>youll never know</td>\n      <td>You'll never know just how much I love you\\nYo...</td>\n      <td>[know, love, know, care, try, hide, love, ough...</td>\n      <td>0.338</td>\n      <td>let's face the music and dance</td>\n      <td>None</td>\n      <td>[]</td>\n    </tr>\n    <tr>\n      <th>9715</th>\n      <td>willie nelson</td>\n      <td>young at heart</td>\n      <td>Fairy tales can come true\\nIt can happen to yo...</td>\n      <td>[fairy, tale, come, true, happen, young, heart...</td>\n      <td>0.279</td>\n      <td>my way</td>\n      <td>2018-09-14</td>\n      <td>[]</td>\n    </tr>\n    <tr>\n      <th>9716</th>\n      <td>willie nelson</td>\n      <td>your memory has a mind of its own</td>\n      <td>Your memory has a mind of its own\\nIt knows wh...</td>\n      <td>[memory, mind, know, think, lose, prove, wrong...</td>\n      <td>0.338</td>\n      <td>god's problem child</td>\n      <td>2017-04-28</td>\n      <td>[]</td>\n    </tr>\n  </tbody>\n</table>\n<p>9717 rows × 8 columns</p>\n</div>"
     },
     "metadata": {},
     "execution_count": 5
    }
   ],
   "source": [
    "df = pd.DataFrame(list(zip(artist_names, song_names, lyrics, tokenized_lyrics, valence, albums, year, features)), columns=['artist', 'song', 'lyrics', 'tokenized_lyrics', 'valence', 'album', 'year', 'features'])\n",
    "df"
   ]
  },
  {
   "cell_type": "code",
   "execution_count": 6,
   "metadata": {},
   "outputs": [],
   "source": [
    "df['tokenized_lyrics'] = [' '.join(lyric_list) for lyric_list in df['tokenized_lyrics'].values]"
   ]
  },
  {
   "cell_type": "code",
   "execution_count": 7,
   "metadata": {},
   "outputs": [],
   "source": [
    "df.to_csv('data/song_df.csv')"
   ]
  },
  {
   "cell_type": "code",
   "execution_count": 8,
   "metadata": {},
   "outputs": [
    {
     "output_type": "execute_result",
     "data": {
      "text/plain": "             artist                               song  \\\n0      99 neighbors                                 19   \n1      99 neighbors                          bangarang   \n2      99 neighbors                           basement   \n3      99 neighbors                           champion   \n4      99 neighbors                   champion reprise   \n...             ...                                ...   \n9712  willie nelson      you left a long long time ago   \n9713  willie nelson          you make me feel so young   \n9714  willie nelson                   youll never know   \n9715  willie nelson                     young at heart   \n9716  willie nelson  your memory has a mind of its own   \n\n                                                 lyrics  \\\n0     I feel\\nStuck in a box\\nI saw Jesus walk, aye\\...   \n1     Bounce around and shit\\nBangarang your chick (...   \n2     I said I took that motherfucker for a ride fro...   \n3     Look me in my eye\\nTell me what you see\\nLook ...   \n4     Baby\\nFor all the nights you couldn't sleep\\nA...   \n...                                                 ...   \n9712  You tell me today that you're leaving\\nBut jus...   \n9713  You make me feel so young\\nYou make me feel li...   \n9714  You'll never know just how much I love you\\nYo...   \n9715  Fairy tales can come true\\nIt can happen to yo...   \n9716  Your memory has a mind of its own\\nIt knows wh...   \n\n                                       tokenized_lyrics  valence  \\\n0     feel stick box jesus walk aye got tap thought ...    0.279   \n1     bounce shit bangarang chick yay half thang hal...    0.556   \n2     motherfucker ride basement motherfucker ride b...    0.646   \n3     look eye tell look eye tell somebody look eye ...    0.300   \n4     baby night sleep sun time need peace baby know...    0.102   \n...                                                 ...      ...   \n9712  tell today leave think sure know today day wal...    0.235   \n9713  feel young feel spring spring time grin happy ...    0.576   \n9714  know love know care try hide love ought know h...    0.338   \n9715  fairy tale come true happen young heart hard f...    0.279   \n9716  memory mind know think lose prove wrong memory...    0.338   \n\n                                           album        year features  \n0                                             19  2019-11-06       []  \n1                                     television  2019-01-01       []  \n2                                qwop / basement  2020-07-24       []  \n3                                     television  2019-01-01       []  \n4                                     television  2019-01-01       []  \n...                                          ...         ...      ...  \n9712  willie nelson: the demos project, vol. one        None       []  \n9713                                 that's life  2021-02-26       []  \n9714              let's face the music and dance        None       []  \n9715                                      my way  2018-09-14       []  \n9716                         god's problem child  2017-04-28       []  \n\n[9717 rows x 8 columns]",
      "text/html": "<div>\n<style scoped>\n    .dataframe tbody tr th:only-of-type {\n        vertical-align: middle;\n    }\n\n    .dataframe tbody tr th {\n        vertical-align: top;\n    }\n\n    .dataframe thead th {\n        text-align: right;\n    }\n</style>\n<table border=\"1\" class=\"dataframe\">\n  <thead>\n    <tr style=\"text-align: right;\">\n      <th></th>\n      <th>artist</th>\n      <th>song</th>\n      <th>lyrics</th>\n      <th>tokenized_lyrics</th>\n      <th>valence</th>\n      <th>album</th>\n      <th>year</th>\n      <th>features</th>\n    </tr>\n  </thead>\n  <tbody>\n    <tr>\n      <th>0</th>\n      <td>99 neighbors</td>\n      <td>19</td>\n      <td>I feel\\nStuck in a box\\nI saw Jesus walk, aye\\...</td>\n      <td>feel stick box jesus walk aye got tap thought ...</td>\n      <td>0.279</td>\n      <td>19</td>\n      <td>2019-11-06</td>\n      <td>[]</td>\n    </tr>\n    <tr>\n      <th>1</th>\n      <td>99 neighbors</td>\n      <td>bangarang</td>\n      <td>Bounce around and shit\\nBangarang your chick (...</td>\n      <td>bounce shit bangarang chick yay half thang hal...</td>\n      <td>0.556</td>\n      <td>television</td>\n      <td>2019-01-01</td>\n      <td>[]</td>\n    </tr>\n    <tr>\n      <th>2</th>\n      <td>99 neighbors</td>\n      <td>basement</td>\n      <td>I said I took that motherfucker for a ride fro...</td>\n      <td>motherfucker ride basement motherfucker ride b...</td>\n      <td>0.646</td>\n      <td>qwop / basement</td>\n      <td>2020-07-24</td>\n      <td>[]</td>\n    </tr>\n    <tr>\n      <th>3</th>\n      <td>99 neighbors</td>\n      <td>champion</td>\n      <td>Look me in my eye\\nTell me what you see\\nLook ...</td>\n      <td>look eye tell look eye tell somebody look eye ...</td>\n      <td>0.300</td>\n      <td>television</td>\n      <td>2019-01-01</td>\n      <td>[]</td>\n    </tr>\n    <tr>\n      <th>4</th>\n      <td>99 neighbors</td>\n      <td>champion reprise</td>\n      <td>Baby\\nFor all the nights you couldn't sleep\\nA...</td>\n      <td>baby night sleep sun time need peace baby know...</td>\n      <td>0.102</td>\n      <td>television</td>\n      <td>2019-01-01</td>\n      <td>[]</td>\n    </tr>\n    <tr>\n      <th>...</th>\n      <td>...</td>\n      <td>...</td>\n      <td>...</td>\n      <td>...</td>\n      <td>...</td>\n      <td>...</td>\n      <td>...</td>\n      <td>...</td>\n    </tr>\n    <tr>\n      <th>9712</th>\n      <td>willie nelson</td>\n      <td>you left a long long time ago</td>\n      <td>You tell me today that you're leaving\\nBut jus...</td>\n      <td>tell today leave think sure know today day wal...</td>\n      <td>0.235</td>\n      <td>willie nelson: the demos project, vol. one</td>\n      <td>None</td>\n      <td>[]</td>\n    </tr>\n    <tr>\n      <th>9713</th>\n      <td>willie nelson</td>\n      <td>you make me feel so young</td>\n      <td>You make me feel so young\\nYou make me feel li...</td>\n      <td>feel young feel spring spring time grin happy ...</td>\n      <td>0.576</td>\n      <td>that's life</td>\n      <td>2021-02-26</td>\n      <td>[]</td>\n    </tr>\n    <tr>\n      <th>9714</th>\n      <td>willie nelson</td>\n      <td>youll never know</td>\n      <td>You'll never know just how much I love you\\nYo...</td>\n      <td>know love know care try hide love ought know h...</td>\n      <td>0.338</td>\n      <td>let's face the music and dance</td>\n      <td>None</td>\n      <td>[]</td>\n    </tr>\n    <tr>\n      <th>9715</th>\n      <td>willie nelson</td>\n      <td>young at heart</td>\n      <td>Fairy tales can come true\\nIt can happen to yo...</td>\n      <td>fairy tale come true happen young heart hard f...</td>\n      <td>0.279</td>\n      <td>my way</td>\n      <td>2018-09-14</td>\n      <td>[]</td>\n    </tr>\n    <tr>\n      <th>9716</th>\n      <td>willie nelson</td>\n      <td>your memory has a mind of its own</td>\n      <td>Your memory has a mind of its own\\nIt knows wh...</td>\n      <td>memory mind know think lose prove wrong memory...</td>\n      <td>0.338</td>\n      <td>god's problem child</td>\n      <td>2017-04-28</td>\n      <td>[]</td>\n    </tr>\n  </tbody>\n</table>\n<p>9717 rows × 8 columns</p>\n</div>"
     },
     "metadata": {},
     "execution_count": 8
    }
   ],
   "source": [
    "df"
   ]
  },
  {
   "cell_type": "code",
   "execution_count": null,
   "metadata": {},
   "outputs": [],
   "source": []
  }
 ]
}