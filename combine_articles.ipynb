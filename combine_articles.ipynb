{
 "metadata": {
  "language_info": {
   "codemirror_mode": {
    "name": "ipython",
    "version": 3
   },
   "file_extension": ".py",
   "mimetype": "text/x-python",
   "name": "python",
   "nbconvert_exporter": "python",
   "pygments_lexer": "ipython3",
   "version": "3.8.3-final"
  },
  "orig_nbformat": 2,
  "kernelspec": {
   "name": "python383jvsc74a57bd0df4ed5e87c9c91b748bf751a2f1a6ede34d3159874532e28232aba479dd81fc8",
   "display_name": "Python 3.8.3 64-bit ('.venv': venv)",
   "language": "python"
  }
 },
 "nbformat": 4,
 "nbformat_minor": 2,
 "cells": [
  {
   "cell_type": "code",
   "execution_count": 1,
   "metadata": {},
   "outputs": [
    {
     "output_type": "execute_result",
     "data": {
      "text/plain": [
       "'/Users/carterward/Documents/GitHub/Topic-Mapping'"
      ]
     },
     "metadata": {},
     "execution_count": 1
    }
   ],
   "source": [
    "import pandas as pd\n",
    "import os\n",
    "from src.process import lyric_tokenizer\n",
    "os.getcwd()"
   ]
  },
  {
   "cell_type": "code",
   "execution_count": 2,
   "metadata": {},
   "outputs": [],
   "source": [
    "art1 = pd.read_csv(\"data/articles1.csv\")\n",
    "art2 = pd.read_csv(\"data/articles2.csv\")\n",
    "art3 = pd.read_csv(\"data/articles3.csv\")"
   ]
  },
  {
   "cell_type": "code",
   "execution_count": 3,
   "metadata": {},
   "outputs": [
    {
     "output_type": "execute_result",
     "data": {
      "text/plain": [
       "Index(['Unnamed: 0', 'id', 'title', 'publication', 'author', 'date', 'year',\n",
       "       'month', 'url', 'content'],\n",
       "      dtype='object')"
      ]
     },
     "metadata": {},
     "execution_count": 3
    }
   ],
   "source": [
    "art1.columns"
   ]
  },
  {
   "cell_type": "code",
   "execution_count": 4,
   "metadata": {},
   "outputs": [
    {
     "output_type": "execute_result",
     "data": {
      "text/plain": [
       "Index(['Unnamed: 0', 'id', 'title', 'publication', 'author', 'date', 'year',\n",
       "       'month', 'url', 'content'],\n",
       "      dtype='object')"
      ]
     },
     "metadata": {},
     "execution_count": 4
    }
   ],
   "source": [
    "art2.columns"
   ]
  },
  {
   "cell_type": "code",
   "execution_count": 5,
   "metadata": {},
   "outputs": [
    {
     "output_type": "execute_result",
     "data": {
      "text/plain": [
       "Index(['Unnamed: 0', 'id', 'title', 'publication', 'author', 'date', 'year',\n",
       "       'month', 'url', 'content'],\n",
       "      dtype='object')"
      ]
     },
     "metadata": {},
     "execution_count": 5
    }
   ],
   "source": [
    "art3.columns"
   ]
  },
  {
   "cell_type": "code",
   "execution_count": 3,
   "metadata": {},
   "outputs": [],
   "source": [
    "master_art = pd.concat([art1,art2,art3])"
   ]
  },
  {
   "cell_type": "code",
   "execution_count": 4,
   "metadata": {},
   "outputs": [],
   "source": [
    "sample_art = master_art.sample(9750)"
   ]
  },
  {
   "cell_type": "code",
   "execution_count": 5,
   "metadata": {},
   "outputs": [
    {
     "output_type": "execute_result",
     "data": {
      "text/plain": [
       "       Unnamed: 0      id                                              title  \\\n",
       "43742       97201  143585   Another US health agency with blood on its hands   \n",
       "15140      118602  174573  Romney Changes His Tune On Trump As President-...   \n",
       "38919       40311   59178     Cancer trial stopped again after 2 more deaths   \n",
       "5800       109259  163149  Paul Manafort To Testify On Russia As House In...   \n",
       "43645       97104  143444  It’s never cost more to buy an apartment in Ma...   \n",
       "...           ...     ...                                                ...   \n",
       "44598       98057  144825  The secret nobody wants you to know about boxe...   \n",
       "29344       82803  124648  China lashes out after Mattis backs Japan in i...   \n",
       "3531        56840   78108           When an Abortion Destroys a Relationship   \n",
       "43409       96868  143129       Yankees sniffing around Cubs’ 15-game winner   \n",
       "37389      140851  211497  Trump’s campaign brings Eastern Europe’s polit...   \n",
       "\n",
       "           publication               author        date    year  month  \\\n",
       "43742    New York Post      Betsy McCaughey  2016-12-09  2016.0   12.0   \n",
       "15140              NPR       Jessica Taylor  2016-11-29  2016.0   11.0   \n",
       "38919              CNN           Ben Tinker  2016-11-24  2016.0   11.0   \n",
       "5800               NPR     Camila Domonoske  2017-03-24  2017.0    3.0   \n",
       "43645    New York Post  Jennifer Gould Keil  2016-01-05  2016.0    1.0   \n",
       "...                ...                  ...         ...     ...    ...   \n",
       "44598    New York Post     Stephanie Miskew  2016-08-15  2016.0    8.0   \n",
       "29344    New York Post     Associated Press  2017-02-04  2017.0    2.0   \n",
       "3531          Atlantic       Chris Bodenner  2016-08-11  2016.0    8.0   \n",
       "43409    New York Post   George A. King III  2016-11-15  2016.0   11.0   \n",
       "37389  Washington Post       Anne Applebaum  2016-04-25  2016.0    4.0   \n",
       "\n",
       "                                                     url  \\\n",
       "43742  http://nypost.com/2016/12/09/another-us-health...   \n",
       "15140  http://www.npr.org/2016/11/29/503804463/romney...   \n",
       "38919                                                NaN   \n",
       "5800   http://www.npr.org/sections/thetwo-way/2017/03...   \n",
       "43645  http://nypost.com/2016/01/05/its-never-cost-mo...   \n",
       "...                                                  ...   \n",
       "44598  http://nypost.com/2016/08/15/the-secret-nobody...   \n",
       "29344  https://web.archive.org/web/20170205002850/htt...   \n",
       "3531                                                 NaN   \n",
       "43409  http://nypost.com/2016/11/15/yankees-sniffing-...   \n",
       "37389  https://web.archive.org/web/20160426001232/htt...   \n",
       "\n",
       "                                                 content  \n",
       "43742  Donald Trump pledged to clean up the dysfuncti...  \n",
       "15140    Donald Trump and 2012 GOP presidential nomin...  \n",
       "38919   (CNN) After more patient deaths, Juno Therape...  \n",
       "5800   Updated at 3:30 p. m. Former Trump campaign ch...  \n",
       "43645  The median price of a Manhattan apartment has ...  \n",
       "...                                                  ...  \n",
       "44598  For years, one of the most loathed word combin...  \n",
       "29344  BEIJING  —   The U. S. is putting regional sta...  \n",
       "3531   Prompted by Emma Green’s note on the Supreme C...  \n",
       "43409  Brian Cashman has spent much of the offseason ...  \n",
       "37389       When democracy arrived in the eastern hal...  \n",
       "\n",
       "[9750 rows x 10 columns]"
      ],
      "text/html": "<div>\n<style scoped>\n    .dataframe tbody tr th:only-of-type {\n        vertical-align: middle;\n    }\n\n    .dataframe tbody tr th {\n        vertical-align: top;\n    }\n\n    .dataframe thead th {\n        text-align: right;\n    }\n</style>\n<table border=\"1\" class=\"dataframe\">\n  <thead>\n    <tr style=\"text-align: right;\">\n      <th></th>\n      <th>Unnamed: 0</th>\n      <th>id</th>\n      <th>title</th>\n      <th>publication</th>\n      <th>author</th>\n      <th>date</th>\n      <th>year</th>\n      <th>month</th>\n      <th>url</th>\n      <th>content</th>\n    </tr>\n  </thead>\n  <tbody>\n    <tr>\n      <th>43742</th>\n      <td>97201</td>\n      <td>143585</td>\n      <td>Another US health agency with blood on its hands</td>\n      <td>New York Post</td>\n      <td>Betsy McCaughey</td>\n      <td>2016-12-09</td>\n      <td>2016.0</td>\n      <td>12.0</td>\n      <td>http://nypost.com/2016/12/09/another-us-health...</td>\n      <td>Donald Trump pledged to clean up the dysfuncti...</td>\n    </tr>\n    <tr>\n      <th>15140</th>\n      <td>118602</td>\n      <td>174573</td>\n      <td>Romney Changes His Tune On Trump As President-...</td>\n      <td>NPR</td>\n      <td>Jessica Taylor</td>\n      <td>2016-11-29</td>\n      <td>2016.0</td>\n      <td>11.0</td>\n      <td>http://www.npr.org/2016/11/29/503804463/romney...</td>\n      <td>Donald Trump and 2012 GOP presidential nomin...</td>\n    </tr>\n    <tr>\n      <th>38919</th>\n      <td>40311</td>\n      <td>59178</td>\n      <td>Cancer trial stopped again after 2 more deaths</td>\n      <td>CNN</td>\n      <td>Ben Tinker</td>\n      <td>2016-11-24</td>\n      <td>2016.0</td>\n      <td>11.0</td>\n      <td>NaN</td>\n      <td>(CNN) After more patient deaths, Juno Therape...</td>\n    </tr>\n    <tr>\n      <th>5800</th>\n      <td>109259</td>\n      <td>163149</td>\n      <td>Paul Manafort To Testify On Russia As House In...</td>\n      <td>NPR</td>\n      <td>Camila Domonoske</td>\n      <td>2017-03-24</td>\n      <td>2017.0</td>\n      <td>3.0</td>\n      <td>http://www.npr.org/sections/thetwo-way/2017/03...</td>\n      <td>Updated at 3:30 p. m. Former Trump campaign ch...</td>\n    </tr>\n    <tr>\n      <th>43645</th>\n      <td>97104</td>\n      <td>143444</td>\n      <td>It’s never cost more to buy an apartment in Ma...</td>\n      <td>New York Post</td>\n      <td>Jennifer Gould Keil</td>\n      <td>2016-01-05</td>\n      <td>2016.0</td>\n      <td>1.0</td>\n      <td>http://nypost.com/2016/01/05/its-never-cost-mo...</td>\n      <td>The median price of a Manhattan apartment has ...</td>\n    </tr>\n    <tr>\n      <th>...</th>\n      <td>...</td>\n      <td>...</td>\n      <td>...</td>\n      <td>...</td>\n      <td>...</td>\n      <td>...</td>\n      <td>...</td>\n      <td>...</td>\n      <td>...</td>\n      <td>...</td>\n    </tr>\n    <tr>\n      <th>44598</th>\n      <td>98057</td>\n      <td>144825</td>\n      <td>The secret nobody wants you to know about boxe...</td>\n      <td>New York Post</td>\n      <td>Stephanie Miskew</td>\n      <td>2016-08-15</td>\n      <td>2016.0</td>\n      <td>8.0</td>\n      <td>http://nypost.com/2016/08/15/the-secret-nobody...</td>\n      <td>For years, one of the most loathed word combin...</td>\n    </tr>\n    <tr>\n      <th>29344</th>\n      <td>82803</td>\n      <td>124648</td>\n      <td>China lashes out after Mattis backs Japan in i...</td>\n      <td>New York Post</td>\n      <td>Associated Press</td>\n      <td>2017-02-04</td>\n      <td>2017.0</td>\n      <td>2.0</td>\n      <td>https://web.archive.org/web/20170205002850/htt...</td>\n      <td>BEIJING  —   The U. S. is putting regional sta...</td>\n    </tr>\n    <tr>\n      <th>3531</th>\n      <td>56840</td>\n      <td>78108</td>\n      <td>When an Abortion Destroys a Relationship</td>\n      <td>Atlantic</td>\n      <td>Chris Bodenner</td>\n      <td>2016-08-11</td>\n      <td>2016.0</td>\n      <td>8.0</td>\n      <td>NaN</td>\n      <td>Prompted by Emma Green’s note on the Supreme C...</td>\n    </tr>\n    <tr>\n      <th>43409</th>\n      <td>96868</td>\n      <td>143129</td>\n      <td>Yankees sniffing around Cubs’ 15-game winner</td>\n      <td>New York Post</td>\n      <td>George A. King III</td>\n      <td>2016-11-15</td>\n      <td>2016.0</td>\n      <td>11.0</td>\n      <td>http://nypost.com/2016/11/15/yankees-sniffing-...</td>\n      <td>Brian Cashman has spent much of the offseason ...</td>\n    </tr>\n    <tr>\n      <th>37389</th>\n      <td>140851</td>\n      <td>211497</td>\n      <td>Trump’s campaign brings Eastern Europe’s polit...</td>\n      <td>Washington Post</td>\n      <td>Anne Applebaum</td>\n      <td>2016-04-25</td>\n      <td>2016.0</td>\n      <td>4.0</td>\n      <td>https://web.archive.org/web/20160426001232/htt...</td>\n      <td>When democracy arrived in the eastern hal...</td>\n    </tr>\n  </tbody>\n</table>\n<p>9750 rows × 10 columns</p>\n</div>"
     },
     "metadata": {},
     "execution_count": 5
    }
   ],
   "source": [
    "sample_art"
   ]
  },
  {
   "cell_type": "code",
   "execution_count": 6,
   "metadata": {
    "tags": []
   },
   "outputs": [
    {
     "output_type": "stream",
     "name": "stdout",
     "text": [
      "100\n",
      "200\n",
      "300\n",
      "400\n",
      "500\n",
      "600\n",
      "700\n",
      "800\n",
      "900\n",
      "1000\n",
      "1100\n",
      "1200\n",
      "1300\n",
      "1400\n",
      "1500\n",
      "1600\n",
      "1700\n",
      "1800\n",
      "1900\n",
      "2000\n",
      "2100\n",
      "2200\n",
      "2300\n",
      "2400\n",
      "2500\n",
      "2600\n",
      "2700\n",
      "2800\n",
      "2900\n",
      "3000\n",
      "3100\n",
      "3200\n",
      "3300\n",
      "3400\n",
      "3500\n",
      "3600\n",
      "3700\n",
      "3800\n",
      "3900\n",
      "4000\n",
      "4100\n",
      "4200\n",
      "4300\n",
      "4400\n",
      "4500\n",
      "4600\n",
      "4700\n",
      "4800\n",
      "4900\n",
      "5000\n",
      "5100\n",
      "5200\n",
      "5300\n",
      "5400\n",
      "5500\n",
      "5600\n",
      "5700\n",
      "5800\n",
      "5900\n",
      "6000\n",
      "6100\n",
      "6200\n",
      "6300\n",
      "6400\n",
      "6500\n",
      "6600\n",
      "6700\n",
      "6800\n",
      "6900\n",
      "7000\n",
      "7100\n",
      "7200\n",
      "7300\n",
      "7400\n",
      "7500\n",
      "7600\n",
      "7700\n",
      "7800\n",
      "7900\n",
      "8000\n",
      "8100\n",
      "8200\n",
      "8300\n",
      "8400\n",
      "8500\n",
      "8600\n",
      "8700\n",
      "8800\n",
      "8900\n",
      "9000\n",
      "9100\n",
      "9200\n",
      "9300\n",
      "9400\n",
      "9500\n",
      "9600\n",
      "9700\n"
     ]
    }
   ],
   "source": [
    "tokenized_art =[]\n",
    "i = 1\n",
    "for art in sample_art['content'].values:\n",
    "    if i % 100 == 0:\n",
    "        print(i)\n",
    "    tokenized_art.append(' '.join(lyric_tokenizer(art)))\n",
    "    i+=1"
   ]
  },
  {
   "cell_type": "code",
   "execution_count": 7,
   "metadata": {},
   "outputs": [],
   "source": [
    "sample_art['tokenized_content'] = tokenized_art"
   ]
  },
  {
   "cell_type": "code",
   "execution_count": 8,
   "metadata": {},
   "outputs": [],
   "source": [
    "sample_art.to_csv(\"large_article_sample.csv\")"
   ]
  },
  {
   "cell_type": "code",
   "execution_count": null,
   "metadata": {},
   "outputs": [],
   "source": []
  }
 ]
}