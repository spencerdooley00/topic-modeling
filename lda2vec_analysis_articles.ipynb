{
 "metadata": {
  "orig_nbformat": 2,
  "kernelspec": {
   "name": "python3",
   "display_name": "Python 3",
   "language": "python"
  }
 },
 "nbformat": 4,
 "nbformat_minor": 2,
 "cells": [
  {
   "cell_type": "code",
   "execution_count": 1,
   "metadata": {},
   "outputs": [
    {
     "output_type": "stream",
     "name": "stderr",
     "text": [
      "/Library/Frameworks/Python.framework/Versions/3.8/lib/python3.8/site-packages/scipy/sparse/sparsetools.py:21: DeprecationWarning: `scipy.sparse.sparsetools` is deprecated!\nscipy.sparse.sparsetools is a private module for scipy.sparse, and should not be used.\n  _deprecated()\n"
     ]
    }
   ],
   "source": [
    "import torch\n",
    "import numpy as np\n",
    "import pyLDAvis\n",
    "import pandas as pd\n",
    "import itertools\n",
    "from gensim.models.coherencemodel import CoherenceModel\n",
    "from gensim import corpora"
   ]
  },
  {
   "cell_type": "code",
   "execution_count": 9,
   "metadata": {},
   "outputs": [
    {
     "output_type": "stream",
     "name": "stdout",
     "text": [
      "/Users/carterward/Documents/GitHub/Topic-Mapping\n",
      "/Library/Frameworks/Python.framework/Versions/3.8/lib/python3.8/site-packages/ipykernel/ipkernel.py:287: DeprecationWarning: `should_run_async` will not call `transform_cell` automatically in the future. Please pass the result to `transformed_cell` argument and any exception that happen during thetransform in `preprocessing_exc_tuple` in IPython 7.17 and above.\n",
      "  and should_run_async(code)\n"
     ]
    }
   ],
   "source": [
    "import os\n",
    "# os.chdir(\"Documents/GitHub/Topic-Mapping\")\n",
    "print(os.getcwd())"
   ]
  },
  {
   "cell_type": "code",
   "execution_count": 3,
   "metadata": {},
   "outputs": [
    {
     "output_type": "stream",
     "name": "stderr",
     "text": [
      "/Library/Frameworks/Python.framework/Versions/3.8/lib/python3.8/site-packages/ipykernel/ipkernel.py:287: DeprecationWarning: `should_run_async` will not call `transform_cell` automatically in the future. Please pass the result to `transformed_cell` argument and any exception that happen during thetransform in `preprocessing_exc_tuple` in IPython 7.17 and above.\n  and should_run_async(code)\n"
     ]
    }
   ],
   "source": [
    "# save np.load\n",
    "np_load_old = np.load\n",
    "\n",
    "# modify the default parameters of np.load\n",
    "np.load = lambda *a,**k: np_load_old(*a, allow_pickle=True, **k)\n",
    "\n",
    "\n",
    "# restore np.load for future normal usage\n",
    "# np.load = np_load_old"
   ]
  },
  {
   "cell_type": "code",
   "execution_count": 4,
   "metadata": {},
   "outputs": [
    {
     "output_type": "stream",
     "name": "stderr",
     "text": [
      "/Library/Frameworks/Python.framework/Versions/3.8/lib/python3.8/site-packages/ipykernel/ipkernel.py:287: DeprecationWarning: `should_run_async` will not call `transform_cell` automatically in the future. Please pass the result to `transformed_cell` argument and any exception that happen during thetransform in `preprocessing_exc_tuple` in IPython 7.17 and above.\n  and should_run_async(code)\n"
     ]
    }
   ],
   "source": [
    "def softmax(x):\n",
    "    # x has shape [batch_size, n_classes]\n",
    "    e = np.exp(x)\n",
    "    n = np.sum(e, 1, keepdims=True)\n",
    "    return e/n"
   ]
  },
  {
   "cell_type": "code",
   "execution_count": 6,
   "metadata": {},
   "outputs": [
    {
     "output_type": "stream",
     "name": "stderr",
     "text": [
      "/Library/Frameworks/Python.framework/Versions/3.8/lib/python3.8/site-packages/ipykernel/ipkernel.py:287: DeprecationWarning: `should_run_async` will not call `transform_cell` automatically in the future. Please pass the result to `transformed_cell` argument and any exception that happen during thetransform in `preprocessing_exc_tuple` in IPython 7.17 and above.\n  and should_run_async(code)\n"
     ]
    }
   ],
   "source": [
    "path_to_dir = \"models/articles/\"\n",
    "n_topics = 25"
   ]
  },
  {
   "cell_type": "code",
   "execution_count": 11,
   "metadata": {},
   "outputs": [
    {
     "output_type": "stream",
     "name": "stderr",
     "text": [
      "/Library/Frameworks/Python.framework/Versions/3.8/lib/python3.8/site-packages/ipykernel/ipkernel.py:287: DeprecationWarning: `should_run_async` will not call `transform_cell` automatically in the future. Please pass the result to `transformed_cell` argument and any exception that happen during thetransform in `preprocessing_exc_tuple` in IPython 7.17 and above.\n  and should_run_async(code)\n/Library/Frameworks/Python.framework/Versions/3.8/lib/python3.8/asyncio/events.py:81: DeprecationWarning: `run_cell_async` will not call `transform_cell` automatically in the future. Please pass the result to `transformed_cell` argument and any exception that happen during thetransform in `preprocessing_exc_tuple` in IPython 7.17 and above.\n  self._context.run(self._callback, *self._args)\n"
     ]
    }
   ],
   "source": [
    "dataset = pd.read_csv(\"data/large_article_sample.csv\")\n",
    "# \"integer -> word\" decoder \n",
    "decoder = np.load(path_to_dir+'decoder.npy')[()]\n",
    "\n",
    "vocab = list(decoder.values())\n",
    "\n",
    "# for restoring document ids, \"id used while training -> initial id\"\n",
    "doc_decoder = np.load(path_to_dir+'doc_decoder.npy')[()]\n",
    "docs = dataset.iloc[list(doc_decoder.values())][\"tokenized_content\"].values\n",
    "\n",
    "doc_lengths = np.array([0 if pd.isna(tok) else len(tok.split()) for tok in docs])\n",
    "\n",
    "docs_compiled = list(itertools.chain.from_iterable([doc.split() for doc in docs if not pd.isna(doc)]))\n",
    "term_frequency = np.array([docs_compiled.count(word) for word in vocab])"
   ]
  },
  {
   "cell_type": "code",
   "execution_count": 13,
   "metadata": {},
   "outputs": [
    {
     "output_type": "stream",
     "name": "stderr",
     "text": [
      "/Library/Frameworks/Python.framework/Versions/3.8/lib/python3.8/site-packages/ipykernel/ipkernel.py:287: DeprecationWarning: `should_run_async` will not call `transform_cell` automatically in the future. Please pass the result to `transformed_cell` argument and any exception that happen during thetransform in `preprocessing_exc_tuple` in IPython 7.17 and above.\n  and should_run_async(code)\n"
     ]
    }
   ],
   "source": [
    "state = torch.load(path_to_dir+'lda2vec_models/40_epoch_model_state.pytorch', map_location=lambda storage, loc: storage)"
   ]
  },
  {
   "cell_type": "code",
   "execution_count": 14,
   "metadata": {},
   "outputs": [
    {
     "output_type": "stream",
     "name": "stderr",
     "text": [
      "/Library/Frameworks/Python.framework/Versions/3.8/lib/python3.8/site-packages/ipykernel/ipkernel.py:287: DeprecationWarning: `should_run_async` will not call `transform_cell` automatically in the future. Please pass the result to `transformed_cell` argument and any exception that happen during thetransform in `preprocessing_exc_tuple` in IPython 7.17 and above.\n  and should_run_async(code)\n"
     ]
    }
   ],
   "source": [
    "doc_weights = state['doc_weights.weight'].cpu().clone().numpy()\n",
    "topic_vectors = state['topics.topic_vectors'].cpu().clone().numpy()\n",
    "resulted_word_vectors = state['neg.embedding.weight'].cpu().clone().numpy()\n",
    "\n",
    "# distribution over the topics for each document\n",
    "topic_dist = softmax(doc_weights)\n",
    "\n",
    "# vector representation of the documents\n",
    "doc_vecs = np.matmul(topic_dist, topic_vectors)\n",
    "# rows are topics, cols are vocab, vals are probabilities\n",
    "topic_term_dist = softmax(np.matmul(topic_vectors, resulted_word_vectors.T))"
   ]
  },
  {
   "cell_type": "code",
   "execution_count": 15,
   "metadata": {},
   "outputs": [
    {
     "output_type": "stream",
     "name": "stdout",
     "text": [
      "(9648, 50)\n",
      "(9648, 25)\n",
      "(25, 50)\n",
      "(12402, 50)\n",
      "(9648, 25)\n",
      "(25, 12402)\n",
      "/Library/Frameworks/Python.framework/Versions/3.8/lib/python3.8/site-packages/ipykernel/ipkernel.py:287: DeprecationWarning: `should_run_async` will not call `transform_cell` automatically in the future. Please pass the result to `transformed_cell` argument and any exception that happen during thetransform in `preprocessing_exc_tuple` in IPython 7.17 and above.\n",
      "  and should_run_async(code)\n"
     ]
    }
   ],
   "source": [
    "print(doc_vecs.shape)\n",
    "print(topic_dist.shape)\n",
    "print(topic_vectors.shape)\n",
    "print(resulted_word_vectors.shape)\n",
    "print(doc_weights.shape)\n",
    "print(topic_term_dist.shape)"
   ]
  },
  {
   "cell_type": "code",
   "execution_count": 20,
   "metadata": {},
   "outputs": [
    {
     "output_type": "stream",
     "name": "stderr",
     "text": [
      "/Library/Frameworks/Python.framework/Versions/3.8/lib/python3.8/site-packages/ipykernel/ipkernel.py:287: DeprecationWarning: `should_run_async` will not call `transform_cell` automatically in the future. Please pass the result to `transformed_cell` argument and any exception that happen during thetransform in `preprocessing_exc_tuple` in IPython 7.17 and above.\n  and should_run_async(code)\n"
     ]
    }
   ],
   "source": [
    "dashboard = pyLDAvis.prepare(topic_term_dist, topic_dist, doc_lengths, vocab, term_frequency)\n",
    "pyLDAvis.display(dashboard)\n",
    "pyLDAvis.save_html(dashboard, \"plots/articles_lda2vec.html\")"
   ]
  },
  {
   "cell_type": "code",
   "execution_count": 17,
   "metadata": {},
   "outputs": [
    {
     "output_type": "stream",
     "name": "stdout",
     "text": [
      "topic 1 : isis syria islamic iraq syrian militant mosul rebel troop aleppo\n",
      "topic 2 : parenthood abortion medicaid planned funding prescription budget repeal legislation opioid\n",
      "topic 3 : castro airline fidel flight munoz passenger airlines lewandowski mets dao\n",
      "topic 4 : ryan speaker paul climate schlafly carbon mcconnell gravitational astronomer telescope\n",
      "topic 5 : hogan pruitt epa gas gawker energy denton oklahoma daulerio oil\n",
      "topic 6 : pipeline college ms. sioux teacher parent graduate dakota standing education\n",
      "topic 7 : nfl player giants korea coach korean kim quarterback baseball broncos\n",
      "topic 8 : song music album fashion band designer singer sing dress dance\n",
      "topic 9 : gorsuch spicer mrs. conway bannon nsc grassley kissinger partisan nixon\n",
      "topic 10 : gun shooting shoot ailes dallas fox cop o’reilly castile handgun\n",
      "topic 11 : google apple app user tesla iphone internet technology software amazon\n",
      "topic 12 : fbi comey intelligence server flynn classified nunes leak probe hack\n",
      "topic 13 : transgend restroom discrimination bathroom ix gender mccrory lawsuit wildstein sexual\n",
      "topic 14 : food eat diet vegetable chicken meat sugar corn egg calorie\n",
      "topic 15 : refugee bundy income airbnb employer tb wage finicum visa refuge\n",
      "topic 16 : breitbart bannon milo yiannopoulos pope francis vatican guzmán coulter pollak\n",
      "topic 17 : bank fed growth economy investor stock investment financial currency inflation\n",
      "topic 18 : rousseff scalia macron loan le fargo circuit wells valeant temer\n",
      "topic 19 : film character movie novel actor comedy episode star hollywood writer\n",
      "topic 20 : water storm olympic snow weather foot mile olympics athlete hurricane\n",
      "topic 21 : muslim muslims religious islam religion christians church duterte ban christian\n",
      "topic 22 : rubio primary delegate nomination sander kasich convention romney sanders senator\n",
      "topic 23 : border immigrant deportation deport mexico illegal illegally undocumented mexican customs\n",
      "topic 24 : sentence virus trial prison zika disease cancer mosquito drug murder\n",
      "topic 25 : eu european britain brexit germany europe merkel labour referendum migrant\n",
      "/Library/Frameworks/Python.framework/Versions/3.8/lib/python3.8/site-packages/ipykernel/ipkernel.py:287: DeprecationWarning: `should_run_async` will not call `transform_cell` automatically in the future. Please pass the result to `transformed_cell` argument and any exception that happen during thetransform in `preprocessing_exc_tuple` in IPython 7.17 and above.\n",
      "  and should_run_async(code)\n",
      "/Library/Frameworks/Python.framework/Versions/3.8/lib/python3.8/asyncio/events.py:81: DeprecationWarning: `run_cell_async` will not call `transform_cell` automatically in the future. Please pass the result to `transformed_cell` argument and any exception that happen during thetransform in `preprocessing_exc_tuple` in IPython 7.17 and above.\n",
      "  self._context.run(self._callback, *self._args)\n"
     ]
    }
   ],
   "source": [
    "similarity = np.matmul(topic_vectors, resulted_word_vectors.T)\n",
    "most_similar = similarity.argsort(axis=1)[:, -10:]\n",
    "topic_matrix = []\n",
    "for j in range(n_topics):\n",
    "    topic_matrix.append([decoder[i] for i in reversed(most_similar[j])])\n",
    "    topic_words = ' '.join([decoder[i] for i in reversed(most_similar[j])])\n",
    "    print('topic', j + 1, ':', topic_words)"
   ]
  },
  {
   "cell_type": "code",
   "execution_count": 18,
   "metadata": {},
   "outputs": [
    {
     "output_type": "stream",
     "name": "stderr",
     "text": [
      "/Library/Frameworks/Python.framework/Versions/3.8/lib/python3.8/site-packages/ipykernel/ipkernel.py:287: DeprecationWarning: `should_run_async` will not call `transform_cell` automatically in the future. Please pass the result to `transformed_cell` argument and any exception that happen during thetransform in `preprocessing_exc_tuple` in IPython 7.17 and above.\n  and should_run_async(code)\n/Library/Frameworks/Python.framework/Versions/3.8/lib/python3.8/asyncio/events.py:81: DeprecationWarning: `run_cell_async` will not call `transform_cell` automatically in the future. Please pass the result to `transformed_cell` argument and any exception that happen during thetransform in `preprocessing_exc_tuple` in IPython 7.17 and above.\n  self._context.run(self._callback, *self._args)\n"
     ]
    }
   ],
   "source": [
    "d = corpora.Dictionary()\n",
    "d.id2token = decoder\n",
    "d.token2id = {value: key for key, value in decoder.items()}\n",
    "docs = [doc for doc in docs if not pd.isna(doc)]\n",
    "docs = [doc.split() for doc in docs]"
   ]
  },
  {
   "cell_type": "code",
   "execution_count": 19,
   "metadata": {},
   "outputs": [
    {
     "output_type": "stream",
     "name": "stderr",
     "text": [
      "/Library/Frameworks/Python.framework/Versions/3.8/lib/python3.8/site-packages/ipykernel/ipkernel.py:287: DeprecationWarning: `should_run_async` will not call `transform_cell` automatically in the future. Please pass the result to `transformed_cell` argument and any exception that happen during thetransform in `preprocessing_exc_tuple` in IPython 7.17 and above.\n  and should_run_async(code)\n"
     ]
    },
    {
     "output_type": "execute_result",
     "data": {
      "text/plain": [
       "0.5902794107028866"
      ]
     },
     "metadata": {},
     "execution_count": 19
    }
   ],
   "source": [
    "cm = CoherenceModel(topics=topic_matrix, texts=docs, dictionary=d, coherence='c_v')\n",
    "cm.get_coherence()"
   ]
  },
  {
   "cell_type": "code",
   "execution_count": null,
   "metadata": {},
   "outputs": [],
   "source": []
  }
 ]
}