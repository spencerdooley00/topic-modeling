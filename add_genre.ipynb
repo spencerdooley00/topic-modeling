{
 "metadata": {
  "language_info": {
   "codemirror_mode": {
    "name": "ipython",
    "version": 3
   },
   "file_extension": ".py",
   "mimetype": "text/x-python",
   "name": "python",
   "nbconvert_exporter": "python",
   "pygments_lexer": "ipython3",
   "version": "3.8.3-final"
  },
  "orig_nbformat": 2,
  "kernelspec": {
   "name": "python383jvsc74a57bd0df4ed5e87c9c91b748bf751a2f1a6ede34d3159874532e28232aba479dd81fc8",
   "display_name": "Python 3.8.3 64-bit ('.venv': venv)",
   "language": "python"
  }
 },
 "nbformat": 4,
 "nbformat_minor": 2,
 "cells": [
  {
   "cell_type": "code",
   "execution_count": 1,
   "metadata": {},
   "outputs": [],
   "source": [
    "import pandas as pd\n",
    "from src.firebase_functions import read_all_discogs\n",
    "from src.process import lyric_tokenizer"
   ]
  },
  {
   "cell_type": "code",
   "execution_count": 2,
   "metadata": {},
   "outputs": [
    {
     "output_type": "execute_result",
     "data": {
      "text/plain": [
       "'/Users/carterward/Documents/GitHub/Topic-Mapping'"
      ]
     },
     "metadata": {},
     "execution_count": 2
    }
   ],
   "source": [
    "os.getcwd()"
   ]
  },
  {
   "cell_type": "code",
   "execution_count": 3,
   "metadata": {},
   "outputs": [],
   "source": [
    "all_discogs = read_all_discogs()\n",
    "df = pd.read_csv('data/song_df.csv')"
   ]
  },
  {
   "cell_type": "code",
   "execution_count": 7,
   "metadata": {},
   "outputs": [
    {
     "output_type": "stream",
     "name": "stdout",
     "text": [
      "(9717, 9) 9717\n"
     ]
    }
   ],
   "source": [
    "print(df.shape, len(genre))"
   ]
  },
  {
   "cell_type": "code",
   "execution_count": 5,
   "metadata": {
    "tags": []
   },
   "outputs": [],
   "source": [
    "genre = [song_dict['genre'] for key, song_dict in all_discogs.items()]"
   ]
  },
  {
   "cell_type": "code",
   "execution_count": 10,
   "metadata": {},
   "outputs": [],
   "source": [
    "artist_names = [key.split('_')[0] for key in all_discogs.keys()]\n",
    "song_names = [key.split('_')[1] for key in all_discogs.keys()]\n",
    "lyrics = [dict['lyrics'] for dict in all_discogs.values()]\n",
    "valence = [dict['valence'] for dict in all_discogs.values()]\n",
    "albums = [dict['album'] for dict in all_discogs.values()]\n",
    "year = [dict['year'] for dict in all_discogs.values()]\n",
    "features = [dict['features'] for dict in all_discogs.values()]\n",
    "tokenized_lyrics = [lyric_tokenizer(words) for words in lyrics]"
   ]
  },
  {
   "cell_type": "code",
   "execution_count": 8,
   "metadata": {},
   "outputs": [],
   "source": [
    "df[\"genre\"] = genre"
   ]
  },
  {
   "cell_type": "code",
   "execution_count": 11,
   "metadata": {},
   "outputs": [],
   "source": [
    "df.to_csv(\"data/song_df.csv\")"
   ]
  },
  {
   "cell_type": "code",
   "execution_count": 12,
   "metadata": {},
   "outputs": [
    {
     "output_type": "execute_result",
     "data": {
      "text/plain": [
       "      Unnamed: 0         artist                               song  \\\n",
       "0              0   99 neighbors                                 19   \n",
       "1              1   99 neighbors                          bangarang   \n",
       "2              2   99 neighbors                           basement   \n",
       "3              3   99 neighbors                           champion   \n",
       "4              4   99 neighbors                   champion reprise   \n",
       "...          ...            ...                                ...   \n",
       "9712        9712  willie nelson      you left a long long time ago   \n",
       "9713        9713  willie nelson          you make me feel so young   \n",
       "9714        9714  willie nelson                   youll never know   \n",
       "9715        9715  willie nelson                     young at heart   \n",
       "9716        9716  willie nelson  your memory has a mind of its own   \n",
       "\n",
       "                                                 lyrics  \\\n",
       "0     I feel\\nStuck in a box\\nI saw Jesus walk, aye\\...   \n",
       "1     Bounce around and shit\\nBangarang your chick (...   \n",
       "2     I said I took that motherfucker for a ride fro...   \n",
       "3     Look me in my eye\\nTell me what you see\\nLook ...   \n",
       "4     Baby\\nFor all the nights you couldn't sleep\\nA...   \n",
       "...                                                 ...   \n",
       "9712  You tell me today that you're leaving\\nBut jus...   \n",
       "9713  You make me feel so young\\nYou make me feel li...   \n",
       "9714  You'll never know just how much I love you\\nYo...   \n",
       "9715  Fairy tales can come true\\nIt can happen to yo...   \n",
       "9716  Your memory has a mind of its own\\nIt knows wh...   \n",
       "\n",
       "                                       tokenized_lyrics  valence  \\\n",
       "0     feel stick box jesus walk aye got tap thought ...    0.279   \n",
       "1     bounce shit bangarang chick yay half thang hal...    0.556   \n",
       "2     motherfucker ride basement motherfucker ride b...    0.646   \n",
       "3     look eye tell look eye tell somebody look eye ...    0.300   \n",
       "4     baby night sleep sun time need peace baby know...    0.102   \n",
       "...                                                 ...      ...   \n",
       "9712  tell today leave think sure know today day wal...    0.235   \n",
       "9713  feel young feel spring spring time grin happy ...    0.576   \n",
       "9714  know love know care try hide love ought know h...    0.338   \n",
       "9715  fairy tale come true happen young heart hard f...    0.279   \n",
       "9716  memory mind know think lose prove wrong memory...    0.338   \n",
       "\n",
       "                                           album        year features    genre  \n",
       "0                                             19  2019-11-06       []      rap  \n",
       "1                                     television  2019-01-01       []      rap  \n",
       "2                                qwop / basement  2020-07-24       []      rap  \n",
       "3                                     television  2019-01-01       []      rap  \n",
       "4                                     television  2019-01-01       []      rap  \n",
       "...                                          ...         ...      ...      ...  \n",
       "9712  willie nelson: the demos project, vol. one         NaN       []  country  \n",
       "9713                                 that's life  2021-02-26       []  country  \n",
       "9714              let's face the music and dance         NaN       []  country  \n",
       "9715                                      my way  2018-09-14       []  country  \n",
       "9716                         god's problem child  2017-04-28       []  country  \n",
       "\n",
       "[9717 rows x 10 columns]"
      ],
      "text/html": "<div>\n<style scoped>\n    .dataframe tbody tr th:only-of-type {\n        vertical-align: middle;\n    }\n\n    .dataframe tbody tr th {\n        vertical-align: top;\n    }\n\n    .dataframe thead th {\n        text-align: right;\n    }\n</style>\n<table border=\"1\" class=\"dataframe\">\n  <thead>\n    <tr style=\"text-align: right;\">\n      <th></th>\n      <th>Unnamed: 0</th>\n      <th>artist</th>\n      <th>song</th>\n      <th>lyrics</th>\n      <th>tokenized_lyrics</th>\n      <th>valence</th>\n      <th>album</th>\n      <th>year</th>\n      <th>features</th>\n      <th>genre</th>\n    </tr>\n  </thead>\n  <tbody>\n    <tr>\n      <th>0</th>\n      <td>0</td>\n      <td>99 neighbors</td>\n      <td>19</td>\n      <td>I feel\\nStuck in a box\\nI saw Jesus walk, aye\\...</td>\n      <td>feel stick box jesus walk aye got tap thought ...</td>\n      <td>0.279</td>\n      <td>19</td>\n      <td>2019-11-06</td>\n      <td>[]</td>\n      <td>rap</td>\n    </tr>\n    <tr>\n      <th>1</th>\n      <td>1</td>\n      <td>99 neighbors</td>\n      <td>bangarang</td>\n      <td>Bounce around and shit\\nBangarang your chick (...</td>\n      <td>bounce shit bangarang chick yay half thang hal...</td>\n      <td>0.556</td>\n      <td>television</td>\n      <td>2019-01-01</td>\n      <td>[]</td>\n      <td>rap</td>\n    </tr>\n    <tr>\n      <th>2</th>\n      <td>2</td>\n      <td>99 neighbors</td>\n      <td>basement</td>\n      <td>I said I took that motherfucker for a ride fro...</td>\n      <td>motherfucker ride basement motherfucker ride b...</td>\n      <td>0.646</td>\n      <td>qwop / basement</td>\n      <td>2020-07-24</td>\n      <td>[]</td>\n      <td>rap</td>\n    </tr>\n    <tr>\n      <th>3</th>\n      <td>3</td>\n      <td>99 neighbors</td>\n      <td>champion</td>\n      <td>Look me in my eye\\nTell me what you see\\nLook ...</td>\n      <td>look eye tell look eye tell somebody look eye ...</td>\n      <td>0.300</td>\n      <td>television</td>\n      <td>2019-01-01</td>\n      <td>[]</td>\n      <td>rap</td>\n    </tr>\n    <tr>\n      <th>4</th>\n      <td>4</td>\n      <td>99 neighbors</td>\n      <td>champion reprise</td>\n      <td>Baby\\nFor all the nights you couldn't sleep\\nA...</td>\n      <td>baby night sleep sun time need peace baby know...</td>\n      <td>0.102</td>\n      <td>television</td>\n      <td>2019-01-01</td>\n      <td>[]</td>\n      <td>rap</td>\n    </tr>\n    <tr>\n      <th>...</th>\n      <td>...</td>\n      <td>...</td>\n      <td>...</td>\n      <td>...</td>\n      <td>...</td>\n      <td>...</td>\n      <td>...</td>\n      <td>...</td>\n      <td>...</td>\n      <td>...</td>\n    </tr>\n    <tr>\n      <th>9712</th>\n      <td>9712</td>\n      <td>willie nelson</td>\n      <td>you left a long long time ago</td>\n      <td>You tell me today that you're leaving\\nBut jus...</td>\n      <td>tell today leave think sure know today day wal...</td>\n      <td>0.235</td>\n      <td>willie nelson: the demos project, vol. one</td>\n      <td>NaN</td>\n      <td>[]</td>\n      <td>country</td>\n    </tr>\n    <tr>\n      <th>9713</th>\n      <td>9713</td>\n      <td>willie nelson</td>\n      <td>you make me feel so young</td>\n      <td>You make me feel so young\\nYou make me feel li...</td>\n      <td>feel young feel spring spring time grin happy ...</td>\n      <td>0.576</td>\n      <td>that's life</td>\n      <td>2021-02-26</td>\n      <td>[]</td>\n      <td>country</td>\n    </tr>\n    <tr>\n      <th>9714</th>\n      <td>9714</td>\n      <td>willie nelson</td>\n      <td>youll never know</td>\n      <td>You'll never know just how much I love you\\nYo...</td>\n      <td>know love know care try hide love ought know h...</td>\n      <td>0.338</td>\n      <td>let's face the music and dance</td>\n      <td>NaN</td>\n      <td>[]</td>\n      <td>country</td>\n    </tr>\n    <tr>\n      <th>9715</th>\n      <td>9715</td>\n      <td>willie nelson</td>\n      <td>young at heart</td>\n      <td>Fairy tales can come true\\nIt can happen to yo...</td>\n      <td>fairy tale come true happen young heart hard f...</td>\n      <td>0.279</td>\n      <td>my way</td>\n      <td>2018-09-14</td>\n      <td>[]</td>\n      <td>country</td>\n    </tr>\n    <tr>\n      <th>9716</th>\n      <td>9716</td>\n      <td>willie nelson</td>\n      <td>your memory has a mind of its own</td>\n      <td>Your memory has a mind of its own\\nIt knows wh...</td>\n      <td>memory mind know think lose prove wrong memory...</td>\n      <td>0.338</td>\n      <td>god's problem child</td>\n      <td>2017-04-28</td>\n      <td>[]</td>\n      <td>country</td>\n    </tr>\n  </tbody>\n</table>\n<p>9717 rows × 10 columns</p>\n</div>"
     },
     "metadata": {},
     "execution_count": 12
    }
   ],
   "source": [
    "df"
   ]
  },
  {
   "cell_type": "code",
   "execution_count": null,
   "metadata": {},
   "outputs": [],
   "source": []
  }
 ]
}