{
 "cells": [
  {
   "cell_type": "code",
   "execution_count": null,
   "metadata": {
    "collapsed": true
   },
   "outputs": [],
   "source": [
    "%load_ext autoreload\n",
    "%autoreload 2"
   ]
  },
  {
   "cell_type": "code",
   "execution_count": null,
   "metadata": {},
   "outputs": [],
   "source": []
  },
  {
   "cell_type": "code",
   "execution_count": 1,
   "metadata": {
    "collapsed": true
   },
   "outputs": [
    {
     "output_type": "stream",
     "name": "stdout",
     "text": [
      "/Users/carterward/Documents/GitHub/Topic-Mapping\n"
     ]
    }
   ],
   "source": [
    "from sklearn.datasets import fetch_20newsgroups\n",
    "import numpy as np\n",
    "import pandas as pd\n",
    "from tqdm import tqdm\n",
    "import spacy\n",
    "from gensim import corpora, models\n",
    "import os\n",
    "os.chdir(\"Documents/GitHub/Topic-Mapping\")\n",
    "print(os.getcwd())\n",
    "from src.utils import preprocess, get_windows\n",
    "\n",
    "import requests\n",
    "requests.packages.urllib3.disable_warnings()\n",
    "import ssl\n",
    "\n",
    "try:\n",
    "    _create_unverified_https_context = ssl._create_unverified_context\n",
    "except AttributeError:\n",
    "    # Legacy Python that doesn't verify HTTPS certificates by default\n",
    "    pass\n",
    "else:\n",
    "    # Handle target environment that doesn't support HTTPS verification\n",
    "    ssl._create_default_https_context = _create_unverified_https_context"
   ]
  },
  {
   "cell_type": "code",
   "execution_count": 2,
   "metadata": {
    "collapsed": true
   },
   "outputs": [],
   "source": [
    "MIN_COUNTS = 20\n",
    "MAX_COUNTS = 1800\n",
    "# words with count < MIN_COUNTS\n",
    "# and count > MAX_COUNTS\n",
    "# will be removed\n",
    "\n",
    "MIN_LENGTH = 15\n",
    "# minimum document length \n",
    "# (number of words)\n",
    "# after preprocessing\n",
    "\n",
    "# half the size of the context around a word\n",
    "HALF_WINDOW_SIZE = 5\n",
    "# it must be that 2*HALF_WINDOW_SIZE < MIN_LENGTH"
   ]
  },
  {
   "cell_type": "markdown",
   "metadata": {},
   "source": [
    "# Load NLP model"
   ]
  },
  {
   "cell_type": "code",
   "execution_count": 3,
   "metadata": {
    "collapsed": true
   },
   "outputs": [],
   "source": [
    "nlp = spacy.load('en')"
   ]
  },
  {
   "cell_type": "markdown",
   "metadata": {},
   "source": [
    "# Load dataset"
   ]
  },
  {
   "cell_type": "code",
   "execution_count": 28,
   "metadata": {
    "collapsed": true
   },
   "outputs": [],
   "source": [
    "# dataset = fetch_20newsgroups(subset='all', remove=('headers', 'footers', 'quotes'))\n",
    "# docs = dataset['data']\n",
    "dataset = pd.read_csv(\"data/large_article_sample.csv\")\n",
    "docs = dataset[\"tokenized_content\"].values\n",
    "docs = [doc for doc in docs if not pd.isna(doc)]"
   ]
  },
  {
   "cell_type": "code",
   "execution_count": 29,
   "metadata": {},
   "outputs": [
    {
     "output_type": "execute_result",
     "data": {
      "text/plain": [
       "str"
      ]
     },
     "metadata": {},
     "execution_count": 29
    }
   ],
   "source": [
    "type(docs[0])"
   ]
  },
  {
   "cell_type": "code",
   "execution_count": 30,
   "metadata": {},
   "outputs": [
    {
     "output_type": "execute_result",
     "data": {
      "text/plain": [
       "9743"
      ]
     },
     "metadata": {},
     "execution_count": 30
    }
   ],
   "source": [
    "# number of documents\n",
    "len(docs)"
   ]
  },
  {
   "cell_type": "code",
   "execution_count": 31,
   "metadata": {
    "collapsed": true
   },
   "outputs": [],
   "source": [
    "# store an index with a document\n",
    "docs = [(i, doc) for i, doc in enumerate(docs)]"
   ]
  },
  {
   "cell_type": "markdown",
   "metadata": {},
   "source": [
    "# Preprocess dataset and create windows"
   ]
  },
  {
   "cell_type": "code",
   "execution_count": 32,
   "metadata": {},
   "outputs": [
    {
     "output_type": "execute_result",
     "data": {
      "text/plain": [
       "raw march @wnyt learn asha burwell withdraw @ualbany attend school disciplinary hearing schedule tomorrow jessica layton @jessicalayton13 march woman refuse deal case grand jury follow breitbart news investigative reporter citizen journalism school founder lee stranahan twitter @stranahan ~'),\n",
       " (991,\n",
       "  'deputy inside lackland afb clearing building bexar county sheriff @bexarcosheriff san antonio texas sheriff spokesman people dead apparent air force base san antonio bexar county sheriff spokesman james keith body find friday morning inside room building joint base san keith believe shooter dead sheriff deputy law enforcement officer continue search building nearby facility lackland key training installation air force fort hood mile lackland air force base site people kill injure'),\n",
       " (992,\n",
       "  'donald trump right january speak reporter hearing grill secretary rex tillerson view human right rubio got remember rubio senate scrutiny cone secretary state tip require scrutiny deference subsequently rubio decide vote confirm tillerson tillerson commitment advance human right despite tillerson tip scrutiny cone rubio rationale accord statement monday rubio think job secretary state important senate tie great scrutiny apply nominee guess cone invert maybe senate snow cone point tillerson delicious week half ago kcrw leave right center cohost rich lowry national review tell expect rubio come vote tillerson despite brutal grill rubio russia matter ask rich rubio vote tillerson point grilling reinforce exist knock rubio talk good game stand principle politically costly rich tell assume rubio think strategy way act right hold breath rubio withhold deference future nominee claim'),\n",
       " (993,\n",
       "  'enid mickelsen establishment enforcer summer gop convention work behalf republican national committee chairman reince priebus squash dissent facilitate uneventful nomination donald j. trump mickelsen actually priebus secret sleeper agent woman empower party boss case electoral emergency rig proceeding favor group rebel attempt overthrow trump trump star attraction summer republican national convention cleveland watch closely week mickelsen sunday grandmother draper utah fascinating survey dozen colleague serve mickelsen committee member trump divide intent change rule oust determine preserve nomination reason fear people criticize determined honest broker mickelsen interview acknowledge whisper surround appointment walk loyalty candidate past present future job run fair committee traditionally presumptive nominee staff convention committee trust supporter mickelsen remain neutral primary process actually choose priebus trump sign longtime adviser roger stone campaign chairman paul manafort know mickelsen chairman utah young republicans run national group concede circumstance appointment unique argue impartiality far comfort trump think candidate need rules committee somebody fair know rule understand parliamentary procedure commit majority work allow minority air concern mickelsen certainly qualified sit house rules committee congress longtime member rnc standing committee rules know diligence demeanor emerge priebus tenure close ally tap head rnc search convention host city later committee arrangements organize logistic convention know party stalwart stint vice chairman chairman utah gop win spot committeewoman mickelsen hardly rubber stamp republican regard meticulous occasionally confrontational advocate reform party earlier year file resolution strip state nominate calendar iowa new hampshire south carolina nevada protect status later withdraw time ruffle feather inside rnc election challenge arizona committeeman bruce ash incumbent chairman rnc rules committee gavel lose relate single republican delegate bind donald trump anybody bold run sit chairman rnc seniority pretty bold randy evans georgia committeeman rules committee member offer amendment state pretty bold decide run reelection committeewoman lose way regard lot freedom republicans worry mickelsen rogue cleveland pointed public warning come ash week pen scalding letter rnc colleague denounce appointment mickelsen massachusetts committeeman ron kaufman leader romney campaign chair convention rules committee ash missive report politico similar remark arizona radio shun rnc colleague accuse sour grape award convention chairmanship covet agree mickelsen appointment question guide principle regard rule republican party extent possible process flow committee long support effort centralize power party virginia committeeman morton blackwell ash want convention delegate respect voter nominate trump try send signal trump convention sure people charge rules committee veteran concern mickelsen selection ask expect clearly person appoint rules committee chairman place nomination jeopardy related new rnc proposal rule changes cleveland rnc member ally priebus worry mickelsen appointment feed perception reince create escape hatch case wrong july people think know smart guy maybe build hatch rules committee course news republicans intent blow gop rulebook inside mickelsen committee view choose precisely loyalty priebus party elder determined enforce status quo cleveland think follow process legislative experience demeanor chair good meeting insert inappropriately curly haugland north dakota committeeman write book argue convention delegate unbound free vote whomever choose relate need happen trump lose cleveland haugland claim rnc refuse master list delegate mail writing believe rule change require delegate unbound winner respective state mickelsen clearly disagree point rule require delegate vote candidate bind amend committee haugland vision realize convention floor trump opponent interpret mickelsen hostility cause emphasize opportunity gather vote need publish minority report house floor vote course turn certain anger trump supporter want chairman squash dissent mickelsen box reality dawn senior rnc member friend mickelsen member committee receive dozen week delegate protest appointment raise tie romney accuse priebus puppet rnc official rules committee member suggest motion vacate chair trigger vote remove mickelsen altogether success believe unlikely impossible relate republican stuck donald trump november time rnc member effort underway rally mickelsen especially light ash unsavory surprised bruce letter send party know friend surprised hurt cindy costa south carolina committeewoman rules committee member know enid ron think reason select loyal party supporter understand process run rules committee meeting properly delighted enid fair calm person evaluate thing ron forever feel comfortable toni anne dashiell texas committeewoman rules committee member costa believe trump win nomination fair square insist mickelsen run committee accordingly donald trump trump morning joe tweetsa question need answeris immigration u. s. entitlement mickelsen invest decade life republican party include year planning convention want thing end want right committee choose city cleveland committee convention feel rule want right finish service rnc complicated trump nomination press business rules committee mickelsen cohort responsible craft language govern party gathering cleveland year convention certain shortage bloody dispute regard gop future include restructure nominate calendar tighten participation guideline primary caucus ahead presidential cycle mickelsen pledge neutral matter include old resolution strip state protect status steve scheffler longtime rules committee member iowa committeeman task protect iowa status preserve trump nomination count alarm mickelsen appointment feel immediately place phone priebus percent certainty enid run meeting unbiased manner neutral matter controversial feel comfortable term position iowa status position trump scheffler add reince friend year lie think lie time'),\n",
       " (994,\n",
       "  'sen. marco rubio republican convention nominate donald trump presidential nominee willing speak rival release delegate sense convention rubio interview jake tapper air thursday rubio admit honor speak republican nominee trump ask speak convention florida senator decision markedly different trump vanquish presidential rival jeb bush vow attend convention rubio campaign release delegate trump convention willing happen want helpful want harmful want hillary president rubio admit policy difference donald trump press tapper accept opportunity trump running mate rubio reply negative view right choice deserve running mate fully embrace thing stand'),\n",
       " (995,\n",
       "  'calvin kasulke live parent come transgend man sudden recall gingerly disinvite live home need new place stay ithaca new york college obvious choice friend figure place live planned parenthood unbeknown planned parenthood large source transgend healthcare embattle provider offer hormone replacement therapy help person body appear masculine feminine dozen location grow share staff train perform routine sexual health exam trans patient important provider trans healthcare country harper jean tobin director policy national center transgender equality add clinic transgend healthcare provider locate outside major city clinic place mile trans people hormone therapy hiv test pap smear face discrimination congress brink attempt defund planned parenthood role abortion provider service easily catch crossfire year planned parenthood reimburse million dollar family planning service provide little cost americans congress freeze planned parenthood funding stream force unknown number health center close health provider long warn detrimental impact woman health tobin cut particularly disastrous trans people real head shit raven green patient planned parenthood southern finger lakes know state transgend healthcare fragile survey large number transgend people report difficulty access basic specialized service biased provider distance near provider adequate knowledge trans health issue trans people want hormone replacement therapy common treatment gender transition actually receive accord major survey transgend adult avoid essential care fear harassment percent negative experience healthcare provider need teach doctor fundamental transgend care report travel mile care result thousand care year stack trans people healthcare system kasulke volunteer planned parenthood extra layer educate provider safe come person advocate vulnerable situation planned parenthood recent year seek address problem clinic magnet thousand option start planned parenthood southern finger lakes upstate new york grow number health center place trans people begin transition medically basic reproductive service center use new model gender transitioning patient input start transition turn decision entirely psychiatrist clinic staff detailed knowledge update driver license passport social security card reflect gender little oasis middle luca maurer program director ithaca college lgbt center center partnership planned parenthood previously trans student local drive manhattan philadelphia hour way prescription routine checkup accompany gender transition handful cross canadian border treatment toronto available sure maurer trans crisis person job help navigate healthcare system upstate new york microcosm hurdle face transgend people come medical care lgbt healthcare provider survey local trans people learn run barrier provider train address need quarter turn away doctor planned parenthood ithaca limited place tran patient turn local endocrinologist specialize hormonal therapy able absorb new patient local primary care doctor offer transgend care near capacity need limit care doctor healthcare provider frequently refuse treat trans people condition gender identity tran right activist sardonically term trans break arm syndrome florida planned parenthood recently begin offer transgend care dozen health center group physician offer trans patient basic treatment diabetes high blood pressure common cold gina duncan advocate equality florida planned parenthood affiliate florida instrumental push provider acquire knowledge care trans patient planned parenthood fill huge gap know reliable quality source healthcare duncan region planned parenthood major provider trans people hormone replacement therapy general care dinah trans woman want real print use drive mile time need basic blood work planned parenthood city begin offer hormone therapy patient grateful drive hour dr suzie prabhakaran medical service planned parenthood central florida health center prabhakaran oversee begin offer hormone replacement therapy october treat patient counting start hormone therapy time planned parenthood come fire prospect possibly lose service throw patient turmoil dinah care receive planned parenthood lifesave recently work courage schedule physical year exam transition breast cancer screening begin cry thing real mean woman treat'),\n",
       " (996,\n",
       "  'cnn soviet document claim palestinian president mahmoud abbas kgb agent codename mole document obtain cnn mitrokhin archive churchill college university cambridge abbas complete graduate work moscow kgb agent member palestine liberation organization damascus palestinian leader decry report smear campaign target abbas israeli government surrogate use smoke mirror confuse public deceive international community order derail effort revive peace process appropriate palestinian land build new illegal settlement jamal dajani director strategic communication palestinian prime minister rami hamdallah office abbas office decline issue separate statement instead rely response hamdallah office israeli prime minister benjamin netanyahu office decline comment story report israel channel foreign news editor oren nahari learn document predecessor researcher study mitrokhin archive mitrokhin archive collection document maj vasiliy mitrokhin senior archivist kgb foreign intelligence archive defect united kingdom fall soviet union work archivist mitrokhin secret handwritten note material access thousand document kgb global network intelligence mitrokhin file total box thousand paper catalog archive churchill archives center file public july file label envelope relate near middle east paragraph section refer mahmoud abbas mole abbas mahmoud native palestinian executive committee fatah plo damascus kgb agent claim abbas kgb agent simply interesting footnote timing story recent day russian president vladimir putin try arrange meeting abbas netanyahu restart moribund peace process mikhail bogdanov putin special envoy middle east peace process visit region week meet leader russia ministry foreign affairs announce agree meeting principle friday float possible meeting date blame meeting postponement'),\n",
       " (997,\n",
       "  'little rock man accuse fatally shoot boy police road rage incident surrender federal local authority marshals service friday gary eugene holmes custody incident thursday connection shooting death week acen king accord joshua kaplan senior inspector marshals service little rock holmes hold pulaski county jail bond preliminary charge capital murder commit terroristic act police acen shopping trip grandmother strike gunfire boy grandmother kim tell authority stop stop sign pour rain man honk horn car fire gun realize grandson strike gunfire arrive shopping center mile away acen slump seat recording release police woman hear scream acen shoot god little rock police contact fugitive task force include marshals service seek assistance find holmes kaplan authority reach family member arrange holmes surrender fbi city little rock offer $ reward case case forefront kaplan priority marshals service set aside list holmes schedule video arraignment friday morning court record list attorney speak behalf'),\n",
       " (998,\n",
       "  'republicans gear repeal obamacare leader lay marker certainly impossible achieve claim obamacare replacement plan cover obamacare currently cover ambitious promise come regret replicate coverage gain obamacare difficult impossible low level government spending expert anticipate gop obamacare replacement expensive robust obamacare million people health insurance coverage jeopardy temptation promise harm repeal strong key republicans succumb kellyanne conway currently insure lose coverage republicans introduce step repeal process kellyanne conway claim trump administration want currently insurance lose want currently insurance insurance conway week msnbc morning joe conway allude trump previous praise element obamacare aware public coverage condition piece merit exist plan press detail follow conway statement senate majority leader mitch mcconnell reference repeal resolution answer americans insurance protect process vox ezra klein conway comment trump insurance moment note interview challenge trump campaign trail claim choice price hardliner obamacare hhs secretary trump tell reporter work universal health care interview scott pelley minutes real estate mogul uninsured cover government pay care everybody trump heat campaign care cost vote everybody care care end wavering stance health care replacement praise piece obamacare reaffirm campaign rhetoric express pelley paul ryan leave cold house speaker paul ryan thursday republicans plan replacement floor year confirmation incoming health human services secretary tom price indication gain insurance obamacare protect statement thursday month earlier ryan americans bad republican health care replacement plan interview milwaukee journal sentinel clearly transition bridge leave cold bad purpose bring relief people suffer obamacare ryan indicate long time year form replacement interview speaker staff respond clarification day state ryan promise americans bad transition obamacare distance gop obligation cover americans correction @speakerryan office comment bad apply transition period eventual replacement plan sarah kliff @sarahkliff december journal sentinel interview appear instance ryan shoot safe rhetoric week house speaker appear minutes host scott pelley directly ask obamacare replacement plan cover america access affordable healthcare coverage ryan respond allow gop wiggle room define access affordable mean sen. shelley moore capito everybody insurance insure senator west virginia jump ahead gop colleague claim hope people gain coverage republican replacement plan goal everybody insurance insure state flux development goal capito tell bloomberg sahil kapur capito try quash fear lose health insurance west virginia metronews radio talkline nearly west virginians gain health insurance obamacare expand medicaid coverage kick coverage capito tell talkline hoppy kercheval time figure good way coverage people medicaid expand medicaid think detail work later'),\n",
       " (999,\n",
       "  'actress lindsay lohan hit beach thailand week burkini swimsuit vacation southeast asian country break refugee advocacy study islamic scripture accord daily mail mean girls star don hybrid swimsuit paddleboarde session phuket spend week vacation actress previously spend time visit family dubai accord snapshot post instagram account lindsay lohan wear thailand upcoming modest fashion line pic twitter bella vita @drugproblem april good lord lindsay lohan lose mind 😂 leave 👇 sport burkini thailand pic twitter boston 🇺 🇸 bobblehead @dbloom451 april february interview daily mail lohan study koran time fully convert islam process convert tell outlet respect religion beautiful religion spiritual person study convert overnight religion month lohan tell new york post racially profile time life london heathrow airport travel wear islamic headscarf actress wear headscarf respect certain country travel recent month lohan busy advocacy work behalf syrian refugee actress meet turkish president recep tayyip erdogan inside country presidential palace january previously visit refugee hospital home istanbul burkini swimsuit previously center controversy year authority french town nice ban garment reportedly claim pose risk public order court nice later overturn ban follow daniel nussbaum twitter @dznussbaum'),\n",
       " ...]"
      ]
     },
     "metadata": {},
     "execution_count": 32
    }
   ],
   "source": [
    "docs"
   ]
  },
  {
   "cell_type": "code",
   "execution_count": 33,
   "metadata": {
    "scrolled": true,
    "tags": []
   },
   "outputs": [
    {
     "output_type": "stream",
     "name": "stderr",
     "text": [
      "100%|██████████| 9743/9743 [00:00<00:00, 22743.93it/s]\n",
      "number of removed short documents: 37\n",
      "total number of tokens: 3516825\n",
      "number of tokens to be removed: 1500277\n",
      "number of additionally removed short documents: 58\n",
      "total number of tokens: 2015895\n",
      "\n",
      "minimum word count number: 19\n",
      "this number can be less than MIN_COUNTS because of document removal\n"
     ]
    }
   ],
   "source": [
    "encoded_docs, decoder, word_counts = preprocess(\n",
    "    docs, nlp, MIN_LENGTH, MIN_COUNTS, MAX_COUNTS\n",
    ")"
   ]
  },
  {
   "cell_type": "code",
   "execution_count": 34,
   "metadata": {
    "collapsed": true
   },
   "outputs": [],
   "source": [
    "# new ids will be created for the documents.\n",
    "# create a way of restoring initial ids:\n",
    "doc_decoder = {i: doc_id for i, (doc_id, doc) in enumerate(encoded_docs)}"
   ]
  },
  {
   "cell_type": "code",
   "execution_count": 35,
   "metadata": {},
   "outputs": [
    {
     "output_type": "stream",
     "name": "stderr",
     "text": [
      "9648it [00:05, 1899.33it/s]\n"
     ]
    }
   ],
   "source": [
    "data = []\n",
    "# new ids are created here\n",
    "for index, (_, doc) in tqdm(enumerate(encoded_docs)):\n",
    "    windows = get_windows(doc, HALF_WINDOW_SIZE)\n",
    "    # index represents id of a document, \n",
    "    # windows is a list of (word, window around this word),\n",
    "    # where word is in the document\n",
    "    data += [[index, w[0]] + w[1] for w in windows]\n",
    "\n",
    "data = np.array(data, dtype='int64')"
   ]
  },
  {
   "cell_type": "code",
   "execution_count": 36,
   "metadata": {},
   "outputs": [
    {
     "output_type": "execute_result",
     "data": {
      "text/plain": [
       "12"
      ]
     },
     "metadata": {},
     "execution_count": 36
    }
   ],
   "source": [
    "# a row in 'data' contains:\n",
    "# id of a document, id of a word in this document, a window around this word\n",
    "# 1 + 1 + 10\n",
    "data.shape[1]"
   ]
  },
  {
   "cell_type": "code",
   "execution_count": 37,
   "metadata": {},
   "outputs": [
    {
     "output_type": "execute_result",
     "data": {
      "text/plain": [
       "2015895"
      ]
     },
     "metadata": {},
     "execution_count": 37
    }
   ],
   "source": [
    "# number of windows (equals to the total number of tokens)\n",
    "data.shape[0]"
   ]
  },
  {
   "cell_type": "markdown",
   "metadata": {},
   "source": [
    "# Get unigram distribution"
   ]
  },
  {
   "cell_type": "code",
   "execution_count": 38,
   "metadata": {
    "collapsed": true
   },
   "outputs": [],
   "source": [
    "word_counts = np.array(word_counts)\n",
    "unigram_distribution = word_counts/sum(word_counts)"
   ]
  },
  {
   "cell_type": "markdown",
   "metadata": {},
   "source": [
    "# Prepare word vectors"
   ]
  },
  {
   "cell_type": "code",
   "execution_count": 40,
   "metadata": {},
   "outputs": [
    {
     "output_type": "stream",
     "name": "stdout",
     "text": [
      "CPU times: user 42min 4s, sys: 17.6 s, total: 42min 22s\nWall time: 11min\n"
     ]
    }
   ],
   "source": [
    "%%time\n",
    "vocab_size = len(decoder)\n",
    "embedding_dim = 50\n",
    "\n",
    "# train a skip-gram word2vec model\n",
    "texts = [[str(j) for j in doc] for i, doc in encoded_docs]\n",
    "model = models.Word2Vec(texts, size=embedding_dim, window=5, workers=4, sg=1, negative=15, iter=70)\n",
    "model.init_sims(replace=True) \n",
    "\n",
    "word_vectors = np.zeros((vocab_size, embedding_dim)).astype('float32')\n",
    "for i in decoder:\n",
    "    word_vectors[i] = model.wv[str(i)]"
   ]
  },
  {
   "cell_type": "code",
   "execution_count": 41,
   "metadata": {},
   "outputs": [
    {
     "output_type": "execute_result",
     "data": {
      "text/plain": [
       "12402"
      ]
     },
     "metadata": {},
     "execution_count": 41
    }
   ],
   "source": [
    "# number of unique words\n",
    "vocab_size"
   ]
  },
  {
   "cell_type": "markdown",
   "metadata": {
    "collapsed": true
   },
   "source": [
    "# Prepare initialization for document weights"
   ]
  },
  {
   "cell_type": "code",
   "execution_count": 42,
   "metadata": {
    "collapsed": true
   },
   "outputs": [],
   "source": [
    "texts = [[decoder[j] for j in doc] for i, doc in encoded_docs]\n",
    "dictionary = corpora.Dictionary(texts)\n",
    "corpus = [dictionary.doc2bow(text) for text in texts]"
   ]
  },
  {
   "cell_type": "code",
   "execution_count": 44,
   "metadata": {},
   "outputs": [
    {
     "output_type": "stream",
     "name": "stdout",
     "text": [
      "CPU times: user 37.2 s, sys: 5.83 s, total: 43 s\nWall time: 11.3 s\n"
     ]
    }
   ],
   "source": [
    "%%time\n",
    "n_topics = 25\n",
    "lda = models.LdaModel(corpus, alpha=0.9, id2word=dictionary, num_topics=n_topics)\n",
    "corpus_lda = lda[corpus]"
   ]
  },
  {
   "cell_type": "code",
   "execution_count": 45,
   "metadata": {},
   "outputs": [
    {
     "output_type": "stream",
     "name": "stdout",
     "text": [
      "topic 0 : isis syria islamic iraq iran terrorist iraqi syrian civilian turkey\ntopic 1 : abortion county drug parenthood planned funding budget medicaid portland texas\ntopic 2 : castro flight airline mets passenger incident breitbart roberts lewandowski airlines\ntopic 3 : ryan paul speaker climate tweet gorsuch scientist majority planet answer\ntopic 4 : oil caucus afghanistan taliban energy afghan robot gas ryan hogan\ntopic 5 : ms. parent college pipeline protest kid mother education neighborhood project\ntopic 6 : korea insurance obamacare coverage player korean prince season nfl missile\ntopic 7 : music song food album remember kid building father room gold\ntopic 8 : mrs. nuclear flynn gorsuch supreme lie rich politic attorney private\ntopic 9 : gun fox shooting shoot violence kelly carry ailes cop brain\ntopic 10 : apple internet technology vehicle google app tesla user model content\ntopic 11 : comey fbi intelligence de tillerson putin attorney james times leak\ntopic 12 : transgend gender foundation sexual board marriage lawsuit discrimination sex employee\ntopic 13 : food eat sugar diet drink mateen fat water weight orlando\ntopic 14 : refugee kushner datum wage income bush migrant tb bundy buy\ntopic 15 : pope breitbart sander sanders article francis bannon bernie supporter liberty\ntopic 16 : economy bank growth financial israel stock fund agreement investor global\ntopic 17 : bank pen loan le education financial district fund supreme macron\ntopic 18 : film character movie series culture season episode star tv art\ntopic 19 : water m. park foot olympic storm rio mile p. ice\ntopic 20 : muslim ban muslims religious church islam duterte gay religion islamic\ntopic 21 : primary rubio sander senator delegate governor nomination convention sen. sanders\ntopic 22 : immigrant border mexico dutch uber deportation enforcement illegal wilder deport\ntopic 23 : zika crime drug baby virus prison doctor disease sentence mother\ntopic 24 : european britain europe minister british eu germany union migrant prime\n"
     ]
    }
   ],
   "source": [
    "for i, topics in lda.show_topics(n_topics, formatted=False):\n",
    "    print('topic', i, ':', ' '.join([t for t, _ in topics]))"
   ]
  },
  {
   "cell_type": "code",
   "execution_count": 46,
   "metadata": {},
   "outputs": [
    {
     "output_type": "stream",
     "name": "stderr",
     "text": [
      "100%|██████████| 9648/9648 [00:08<00:00, 1120.19it/s]\n"
     ]
    }
   ],
   "source": [
    "doc_weights_init = np.zeros((len(corpus_lda), n_topics))\n",
    "for i in tqdm(range(len(corpus_lda))):\n",
    "    topics = corpus_lda[i]\n",
    "    for j, prob in topics:\n",
    "        doc_weights_init[i, j] = prob"
   ]
  },
  {
   "cell_type": "markdown",
   "metadata": {},
   "source": [
    "# Save data"
   ]
  },
  {
   "cell_type": "code",
   "execution_count": 47,
   "metadata": {
    "collapsed": true
   },
   "outputs": [],
   "source": [
    "np.save('models/articles/data.npy', data)\n",
    "np.save('models/articles/word_vectors.npy', word_vectors)\n",
    "np.save('models/articles/unigram_distribution.npy', unigram_distribution)\n",
    "np.save('models/articles/decoder.npy', decoder)\n",
    "np.save('models/articles/doc_decoder.npy', doc_decoder)\n",
    "np.save('models/articles/doc_weights_init.npy', doc_weights_init)"
   ]
  },
  {
   "cell_type": "code",
   "execution_count": null,
   "metadata": {},
   "outputs": [],
   "source": []
  }
 ],
 "metadata": {
  "kernelspec": {
   "display_name": "Python 3",
   "language": "python",
   "name": "python3"
  }
 },
 "nbformat": 4,
 "nbformat_minor": 2
}